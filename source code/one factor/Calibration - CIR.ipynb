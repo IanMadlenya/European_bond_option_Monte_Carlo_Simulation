{
 "cells": [
  {
   "cell_type": "code",
   "execution_count": 1,
   "metadata": {},
   "outputs": [],
   "source": [
    "import pandas as pd\n",
    "import numpy as np\n",
    "import math\n",
    "import matplotlib.pyplot as plt\n",
    "%matplotlib inline\n",
    "from scipy.stats import ncx2"
   ]
  },
  {
   "cell_type": "code",
   "execution_count": 2,
   "metadata": {},
   "outputs": [
    {
     "data": {
      "text/plain": [
       "term\n",
       "0.25     0.994018\n",
       "0.50     0.991847\n",
       "0.75     0.985719\n",
       "1.00     0.979189\n",
       "1.25     0.972400\n",
       "1.50     0.965407\n",
       "1.75     0.958313\n",
       "2.00     0.946648\n",
       "3.00     0.918169\n",
       "4.00     0.890856\n",
       "5.00     0.864410\n",
       "6.00     0.838709\n",
       "7.00     0.813701\n",
       "8.00     0.789175\n",
       "9.00     0.765001\n",
       "10.00    0.741630\n",
       "11.00    0.718651\n",
       "12.00    0.696587\n",
       "15.00    0.634569\n",
       "20.00    0.544388\n",
       "25.00    0.470307\n",
       "30.00    0.408581\n",
       "40.00    0.311021\n",
       "50.00    0.241662\n",
       "Name: discount, dtype: float64"
      ]
     },
     "execution_count": 2,
     "metadata": {},
     "output_type": "execute_result"
    }
   ],
   "source": [
    "file = pd.read_csv('discount.csv', index_col = 0, parse_dates = True)\n",
    "df = file['discount']\n",
    "df"
   ]
  },
  {
   "cell_type": "code",
   "execution_count": 3,
   "metadata": {},
   "outputs": [
    {
     "data": {
      "text/plain": [
       "24"
      ]
     },
     "execution_count": 3,
     "metadata": {},
     "output_type": "execute_result"
    }
   ],
   "source": [
    "len(df)"
   ]
  },
  {
   "cell_type": "code",
   "execution_count": 25,
   "metadata": {},
   "outputs": [],
   "source": [
    "class Model:\n",
    "    def __init__(self,x):\n",
    "        self.r0 = x[0]\n",
    "        self.kappa = x[1]\n",
    "        self.theta = x[2]             \n",
    "        self.sig = x[3]\n",
    "        self.h = math.sqrt(self.kappa**2 + 2*self.sig**2)\n",
    "        \n",
    "    def A(self,tau):\n",
    "        tmp = 2*self.h*np.exp((self.kappa + self.h) * tau/2)/(2*self.h + (self.kappa+self.h)*(np.exp(tau*self.h)-1))\n",
    "        return pow(tmp,2*self.kappa*self.theta/(self.sig**2))\n",
    "\n",
    "    def B(self,tau):\n",
    "        return 2*(np.exp(self.h*tau)-1)/(2*self.h + (self.kappa+self.h)*(np.exp(self.h*tau)-1))\n",
    "    \n",
    "    def bond_price(self,tau):\n",
    "        price = self.A(tau)*np.exp(-self.B(tau)*self.r0)\n",
    "        return price\n",
    "    \n",
    "    def update_params(self,x):\n",
    "        self.r0 = x[0]\n",
    "        self.kappa = x[0]\n",
    "        self.theta = x[1]             \n",
    "        self.sig = x[2]\n",
    "        self.h = math.sqrt(self.kappa**2 + 2*self.sig**2)\n",
    "       \n",
    "    # call option with T written on zero-coupon bond with S computed by analytical formula\n",
    "    def ZBC(self,P_T,P_S,T,S,K=.96):\n",
    "        tau = S-T\n",
    "        B_T_S = self.B(tau)\n",
    "        rho = 2*self.h/(sig**2*(np.exp(self.h*tau)-1))\n",
    "        phi = (self.kappa+self.h)/(self.sig**2)\n",
    "        r_mean = np.log(self.A(tau)/K)/B_T_S\n",
    "        chi1 = ncx2.cdf(2*r_mean*(rho+phi+B_T_S), 4*self.kappa*self.theta/(self.sig**2), \n",
    "                       2*rho**2*self.r0*np.exp(self.h*tau)/(rho+phi+B_T_S))\n",
    "        chi2 = ncx2.cdf(2*r_mean*(rho+phi), 4*self.kappa*self.theta/(self.sig**2), \n",
    "                       2*rho**2*self.r0*np.exp(self.h*tau)/(rho+phi))\n",
    "        zbc = P_S*chi1 - K*P_T*chi2\n",
    "        return zbc\n",
    "                "
   ]
  },
  {
   "cell_type": "code",
   "execution_count": 26,
   "metadata": {},
   "outputs": [],
   "source": [
    "r0 = 1.705/100\n",
    "kappa = 0.2\n",
    "theta = 3/100\n",
    "sig = .09\n",
    "\n",
    "m = Model([r0,kappa,theta,sig])"
   ]
  },
  {
   "cell_type": "code",
   "execution_count": 27,
   "metadata": {},
   "outputs": [],
   "source": [
    "from scipy.optimize import least_squares\n",
    "\n",
    "class Fitter:\n",
    "    def __init__(self,model,bond_data,term):\n",
    "        self.model = model\n",
    "        self.data = bond_data\n",
    "        self.term = term\n",
    "        \n",
    "    def day_residual(self,x):\n",
    "        self.model.update_params(x)\n",
    "        mode_price = [self.model.bond_price(self.term[i]) for i in range(len(self.term))]\n",
    "        return mode_price - self.data\n",
    "    \n",
    "    def fit(self,x_guess,solver='lm'):\n",
    "        res = least_squares(self.day_residual,x_guess,bounds = ([0,0,0.01,0], [0.06,1,0.06,0.2]))#obj function,x0 guess\n",
    "        return res"
   ]
  },
  {
   "cell_type": "code",
   "execution_count": 28,
   "metadata": {},
   "outputs": [],
   "source": [
    "term = df.index.values\n",
    "bond = Fitter(m,df.values,term)"
   ]
  },
  {
   "cell_type": "code",
   "execution_count": 29,
   "metadata": {},
   "outputs": [
    {
     "name": "stdout",
     "output_type": "stream",
     "text": [
      "r0,kappa,theta,sig are [ 0.02753027  0.05696798  0.06        0.071     ]\n"
     ]
    }
   ],
   "source": [
    "paras = bond.fit([0.018,0.08, 0.037, 0.071]).x\n",
    "m.update_params(paras)\n",
    "print(\"r0,kappa,theta,sig are\",paras)"
   ]
  },
  {
   "cell_type": "code",
   "execution_count": 30,
   "metadata": {},
   "outputs": [
    {
     "name": "stdout",
     "output_type": "stream",
     "text": [
      "analytical call price on bond is  0.955833484815\n"
     ]
    }
   ],
   "source": [
    "# calculate analytical bond option price\n",
    "# But I am not sure if the result is correct as the analytical formula contains chi-squared distribution, I do not know if it is CDF or PDF\n",
    "# P_t_T = df[7]*100\n",
    "# P_t_S = df[8]*100\n",
    "paras = [0.02753,0.057,0.06,0.071]\n",
    "m.update_params(paras)\n",
    "P_t_T = df[7]\n",
    "P_t_S = df[8]\n",
    "print(\"analytical call price on bond is \",m.ZBC(P_t_T,P_t_S,2,3)*100)"
   ]
  },
  {
   "cell_type": "code",
   "execution_count": 18,
   "metadata": {},
   "outputs": [
    {
     "data": {
      "text/plain": [
       "array([ 99.31162641,  98.62317621,  97.93489924,  97.24703731,\n",
       "        96.55982415,  95.87348546,  95.18823888,  94.50429404,\n",
       "        91.78544715,  89.1021555 ,  86.46414397,  83.87932487,\n",
       "        81.35394553,  78.89275198,  76.49916001,  74.17542652,\n",
       "        71.92281552,  69.74175477,  63.62254289,  54.74577395,\n",
       "        47.29311185,  40.99729167,  31.03342173,  23.61909833])"
      ]
     },
     "execution_count": 18,
     "metadata": {},
     "output_type": "execute_result"
    }
   ],
   "source": [
    "model_bond = 100*m.bond_price(term)\n",
    "model_bond"
   ]
  },
  {
   "cell_type": "code",
   "execution_count": 19,
   "metadata": {},
   "outputs": [
    {
     "data": {
      "image/png": "[encoded data removed]",
      "text/plain": [
       "<matplotlib.figure.Figure at 0x216e51a2780>"
      ]
     },
     "metadata": {},
     "output_type": "display_data"
    }
   ],
   "source": [
    "dt = '2018-05-11'\n",
    "f = plt.figure(figsize=(10,5))#width, height in inches\n",
    "ax = f.add_subplot(111)\n",
    "ax.yaxis.tick_right()  #Move ticks and ticklabels (if present) to the right of the axes.\n",
    "plots = [plt.plot(term,df.values*100,label=dt,linestyle=\"dotted\",marker='o'),plt.plot(term,model_bond,label='Model')]\n",
    "plt.legend(loc='lower right')    \n",
    "plt.title(\"zero coupon bond prices\")\n",
    "plt.show()"
   ]
  }
 ],
 "metadata": {
  "kernelspec": {
   "display_name": "Python 3",
   "language": "python",
   "name": "python3"
  },
  "language_info": {
   "codemirror_mode": {
    "name": "ipython",
    "version": 3
   },
   "file_extension": ".py",
   "mimetype": "text/x-python",
   "name": "python",
   "nbconvert_exporter": "python",
   "pygments_lexer": "ipython3",
   "version": "3.6.1"
  }
 },
 "nbformat": 4,
 "nbformat_minor": 2
}
