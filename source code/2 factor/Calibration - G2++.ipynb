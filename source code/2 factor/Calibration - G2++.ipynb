{
 "cells": [
  {
   "cell_type": "code",
   "execution_count": 1,
   "metadata": {},
   "outputs": [],
   "source": [
    "import pandas as pd\n",
    "import numpy as np\n",
    "import math"
   ]
  },
  {
   "cell_type": "code",
   "execution_count": 2,
   "metadata": {},
   "outputs": [
    {
     "data": {
      "text/plain": [
       "term\n",
       "0.25     0.994018\n",
       "0.50     0.991847\n",
       "0.75     0.985719\n",
       "1.00     0.979189\n",
       "1.25     0.972400\n",
       "1.50     0.965407\n",
       "1.75     0.958313\n",
       "2.00     0.946648\n",
       "3.00     0.918169\n",
       "4.00     0.890856\n",
       "5.00     0.864410\n",
       "6.00     0.838709\n",
       "7.00     0.813701\n",
       "8.00     0.789175\n",
       "9.00     0.765001\n",
       "10.00    0.741630\n",
       "11.00    0.718651\n",
       "12.00    0.696587\n",
       "15.00    0.634569\n",
       "20.00    0.544388\n",
       "25.00    0.470307\n",
       "30.00    0.408581\n",
       "40.00    0.311021\n",
       "50.00    0.241662\n",
       "Name: discount, dtype: float64"
      ]
     },
     "execution_count": 2,
     "metadata": {},
     "output_type": "execute_result"
    }
   ],
   "source": [
    "file = pd.read_csv('discount.csv', index_col = 0, parse_dates = True)\n",
    "df = file['discount']\n",
    "df"
   ]
  },
  {
   "cell_type": "markdown",
   "metadata": {},
   "source": [
    "## G2++ Model"
   ]
  },
  {
   "cell_type": "code",
   "execution_count": 3,
   "metadata": {},
   "outputs": [],
   "source": [
    "class Model:\n",
    "    def __init__(self,x):\n",
    "        self.x0 = x[0]\n",
    "        self.y0 = x[1]\n",
    "        self.a = x[2]             \n",
    "        self.sig = x[3]\n",
    "        self.b = x[4]\n",
    "        self.eta = x[5]\n",
    "        self.rho = x[6]\n",
    "\n",
    "    def B(self,z,tau):\n",
    "        return (1-np.exp(-z*(tau)))/z\n",
    "\n",
    "    def V(self,tau):\n",
    "        tmp1 = self.sig**2/(self.a**2)*(tau + 2/self.a*np.exp(-self.a*tau) - 1/(2*self.a)*np.exp(-2*self.a*tau) - 3/(2*self.a))\n",
    "        tmp2 = self.eta**2/(self.b**2)*(tau + 2/self.b*np.exp(-self.b*tau) - 1/(2*self.b)*np.exp(-2*self.b*tau) - 3/(2*self.b))\n",
    "        tmp3 = 2*self.rho*self.sig*self.eta/(self.a*self.b)*(tau + 1/self.a*(np.exp(-self.a*tau)-1) + 1/self.b*(np.exp(-self.b*tau)-1)\n",
    "                                                            - 1/(self.a+self.b)*(np.exp(-(self.a+self.b)*tau)-1))\n",
    "        return tmp1+tmp2+tmp3\n",
    "        \n",
    "    def bond_price(self,t,T,P_t2,P_t1):\n",
    "        A = P_t2/P_t1*np.exp((self.V(T-t)-self.V(T)+self.V(t))/2)\n",
    "        price = A*np.exp(-self.B(a,T-t)*self.x0 - self.B(b,T-t)*self.y0)\n",
    "        return price\n",
    "    \n",
    "    def update_params(self,x):\n",
    "        self.x0 = x[0]\n",
    "        self.y0 = x[1]\n",
    "        self.a = x[2]             \n",
    "        self.sig = x[3]\n",
    "        self.b = x[4]\n",
    "        self.eta = x[5]\n",
    "        self.rho = x[6]"
   ]
  },
  {
   "cell_type": "code",
   "execution_count": 4,
   "metadata": {},
   "outputs": [],
   "source": [
    "x0 = 1.0/100\n",
    "y0 = .705/100 # x0+y0=1.705, overnight libor rate on May 12 2018 is 1.705\n",
    "a = 5\n",
    "sig = .15\n",
    "b = .35\n",
    "eta = .08\n",
    "rho = -0.9\n",
    "\n",
    "m = Model([x0,y0,a,sig,b,eta,rho])"
   ]
  },
  {
   "cell_type": "code",
   "execution_count": 5,
   "metadata": {},
   "outputs": [
    {
     "data": {
      "text/plain": [
       "0.30420979959478234"
      ]
     },
     "execution_count": 5,
     "metadata": {},
     "output_type": "execute_result"
    }
   ],
   "source": [
    "# test if bond price can work well\n",
    "m.bond_price(0,40,0.311021,1)"
   ]
  },
  {
   "cell_type": "markdown",
   "metadata": {},
   "source": [
    "## Calibration"
   ]
  },
  {
   "cell_type": "code",
   "execution_count": 6,
   "metadata": {},
   "outputs": [],
   "source": [
    "from scipy.optimize import least_squares\n",
    "\n",
    "class Fitter:\n",
    "    def __init__(self,model,bond_data,term):\n",
    "        self.model = model\n",
    "        self.data = bond_data\n",
    "        self.term = term\n",
    "        \n",
    "    def day_residual(self,x):\n",
    "        self.model.update_params(x)\n",
    "        mode_price = [self.model.bond_price(0,self.term[i],self.data[i],1) for i in range(len(self.term))]\n",
    "        return mode_price - self.data\n",
    "    \n",
    "    def fit(self,x_guess,solver='lm'):\n",
    "        res = least_squares(self.day_residual,x_guess, method=solver)#obj function,x0 guess\n",
    "        return res"
   ]
  },
  {
   "cell_type": "code",
   "execution_count": 7,
   "metadata": {},
   "outputs": [
    {
     "name": "stdout",
     "output_type": "stream",
     "text": [
      "the calibrated parameters are wield. x0,y0,a,sigma,b,eta,rho: \n"
     ]
    },
    {
     "data": {
      "text/plain": [
       "array([  2.78994781e-08,  -3.51890548e-09,   4.00000000e+00,\n",
       "         9.00000000e-02,   1.00000000e-01,   8.00000000e-02,\n",
       "        -6.00000000e-01])"
      ]
     },
     "execution_count": 7,
     "metadata": {},
     "output_type": "execute_result"
    }
   ],
   "source": [
    "term = df.index.values\n",
    "bond = Fitter(m,df.values,term)\n",
    "print(\"the calibrated parameters are wield. x0,y0,a,sigma,b,eta,rho: \")\n",
    "bond.fit([1.0/100, 0.705/100, 4, 0.09, 0.1, 0.08, -0.6]).x"
   ]
  },
  {
   "cell_type": "markdown",
   "metadata": {},
   "source": [
    "## computed bond option prices based on analytical formula"
   ]
  },
  {
   "cell_type": "code",
   "execution_count": 8,
   "metadata": {},
   "outputs": [],
   "source": [
    "# as parameters are not reasonable, I just estimate.\n",
    "x0 = 0.01\n",
    "y0 = 0.00705\n",
    "a = 5\n",
    "b = 0.35\n",
    "sigma = 0.15\n",
    "rho = -0.9\n",
    "eta = 0.08\n",
    "# P_t_T = df[7]\n",
    "# P_t_S = df[8]\n",
    "P_t_T = 0.946648\n",
    "P_t_S = 0.918169\n",
    "K = .96"
   ]
  },
  {
   "cell_type": "code",
   "execution_count": 9,
   "metadata": {},
   "outputs": [],
   "source": [
    "from scipy.stats import norm\n",
    "import math\n",
    "tmp1 = sigma**2/(2*a**3)*((1-np.exp(-a*1))**2)*(1-np.exp(-2*a*2))\n",
    "tmp2 = eta**2/(2*b**3)*((1-np.exp(-b*1))**2)*(1-np.exp(-2*b*2))\n",
    "tmp3 = 2*rho*sigma*eta/(a*b*(a+b))*(1-np.exp(-a*1))*(1-np.exp(-b*1))*(1-np.exp(-(a+b)*2))"
   ]
  },
  {
   "cell_type": "code",
   "execution_count": 12,
   "metadata": {},
   "outputs": [
    {
     "name": "stdout",
     "output_type": "stream",
     "text": [
      "bond call option based on analytical formula:  2.89223547281\n",
      "Error between analytical price and simulated price 0.00498972955346\n"
     ]
    }
   ],
   "source": [
    "cov = math.sqrt(tmp1+tmp2+tmp3)\n",
    "# call option with T written on zero-coupon bond with S computed by analytical formula\n",
    "ZBC = P_t_S* norm.cdf(np.log(P_t_S/(K*P_t_T))/cov + .5*cov) - P_t_T*K*norm.cdf(np.log(P_t_S/(K*P_t_T))/cov - .5*cov)\n",
    "print(\"bond call option based on analytical formula: \", 100*ZBC)\n",
    "print(\"Error between analytical price and simulated price\",(100*ZBC-2.877804)/(100*ZBC))"
   ]
  },
  {
   "cell_type": "code",
   "execution_count": 11,
   "metadata": {},
   "outputs": [
    {
     "data": {
      "text/plain": [
       "0.018369280106472985"
      ]
     },
     "execution_count": 11,
     "metadata": {},
     "output_type": "execute_result"
    }
   ],
   "source": [
    "# put\n",
    "ZBP = -P_t_S* norm.cdf(np.log(P_t_S/(K*P_t_T))/cov - .5*cov) + P_t_T*K*norm.cdf(np.log(P_t_S/(K*P_t_T))/cov + .5*cov) \n",
    "ZBP"
   ]
  }
 ],
 "metadata": {
  "kernelspec": {
   "display_name": "Python 3",
   "language": "python",
   "name": "python3"
  },
  "language_info": {
   "codemirror_mode": {
    "name": "ipython",
    "version": 3
   },
   "file_extension": ".py",
   "mimetype": "text/x-python",
   "name": "python",
   "nbconvert_exporter": "python",
   "pygments_lexer": "ipython3",
   "version": "3.6.1"
  }
 },
 "nbformat": 4,
 "nbformat_minor": 2
}
